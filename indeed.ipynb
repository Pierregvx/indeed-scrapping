{
 "cells": [
  {
   "cell_type": "code",
   "execution_count": 2,
   "metadata": {},
   "outputs": [],
   "source": [
    "import csv \n",
    "import requests\n",
    "from datetime import datetime\n",
    "from bs4 import BeautifulSoup"
   ]
  },
  {
   "cell_type": "code",
   "execution_count": 3,
   "metadata": {},
   "outputs": [],
   "source": [
    "def createURL(loc,query):\n",
    "\n",
    "    url_format =\"https://{}.indeed.com/jobs?q={}&jt=internship&fromage=14\"\n",
    "    url = url_format.format(loc,query)\n",
    "    return url"
   ]
  },
  {
   "cell_type": "code",
   "execution_count": 4,
   "metadata": {},
   "outputs": [],
   "source": [
    "def autrepage(soup):\n",
    "    sa = soup.find_all('div',{'class':'pagination'})\n",
    "    \n",
    "    a =True if sa !=[] else False\n",
    "    return a\n",
    "    \n"
   ]
  },
  {
   "cell_type": "code",
   "execution_count": 52,
   "metadata": {},
   "outputs": [],
   "source": [
    "def getdfpays(loc,query):\n",
    "    url = createURL(loc,query)\n",
    "    \n",
    "\n",
    "    \n",
    "    liste = []\n",
    "    entreprises=[]\n",
    "    links = []\n",
    "    salaries = []\n",
    "    num = -1\n",
    "    urlbase = url +\"&start=\"\n",
    "    start = 0\n",
    "    while True:\n",
    "        rep = requests.get(url)\n",
    "        soup = BeautifulSoup(rep.text,'html.parser')\n",
    "        #soup = soup.find(\"div\",{'id':\"mosaic-provider-jobcards\"})\n",
    "        cases = soup.find_all('a',{'class':\"tapItem\"})\n",
    "        \n",
    "        for u in cases:\n",
    "            \n",
    "            a= u.find('tr') \n",
    "            links.append(f\"{url}&vjk={u['id'].split('_')[1]}\")\n",
    "            n = a.find_all('h2')\n",
    "\n",
    "            other=u.find('span',{'class':'companyName'})\n",
    "            \n",
    "            company_=(other.get_text())\n",
    "            \n",
    "            entreprises.append(company_)\n",
    "            if a.find('div',{'class':'heading6 tapItem-gutter metadataContainer noJEMChips salaryOnly'}):\n",
    "                salaries.append(a.find('div',{'class':'metadata salary-snippet-container'}).get_text())\n",
    "        #                 print(a.find('div',{'class':'heading6 tapItem-gutter metadataContainer noJEMChips salaryOnly'}))\n",
    "            else:\n",
    "                salaries.append('Nope')\n",
    "            for vb in n :\n",
    "                h = vb.find_all('span')\n",
    "            \n",
    "                if(len(vb)==1):\n",
    "                    liste.append(vb.get_text())\n",
    "                    \n",
    "                else:\n",
    "                    liste.append(vb.get_text()[7:])\n",
    "        if autrepage(soup) ==False:\n",
    "            break\n",
    "        start+=10\n",
    "        url = urlbase + str(start)\n",
    "                \n",
    "\n",
    "\n",
    "    import pandas as pd\n",
    "    df = pd.DataFrame()\n",
    "    df[\"country\"]=[loc for u in liste]\n",
    "    df['titre']=liste\n",
    "    df['entreprise']=entreprises\n",
    "    df['salaire'] = salaries\n",
    "    df['links'] = links\n",
    "    \n",
    "    return df\n"
   ]
  },
  {
   "cell_type": "code",
   "execution_count": 53,
   "metadata": {},
   "outputs": [
    {
     "name": "stdout",
     "output_type": "stream",
     "text": [
      "es : no result\n"
     ]
    }
   ],
   "source": [
    "import pandas as pd\n",
    "result  = pd.DataFrame()\n",
    "pays = ['www','fr','de','uk','at','be','lu','ch','ie','nl','dk','ca','no','pt','es','fi','cn','jp','hu','ro']\n",
    "l = []\n",
    "for c in pays:\n",
    "    try:\n",
    "        df =getdfpays(c,'blockchain')\n",
    "        \n",
    "        result = result.append(df, ignore_index=True)\n",
    "    except AttributeError : \n",
    "        print(c,': no result')\n",
    "\n",
    "\n"
   ]
  },
  {
   "cell_type": "markdown",
   "metadata": {},
   "source": [
    "Let's filter the results, I'm not interested in the jobs ads with keywords in the red_flags list "
   ]
  },
  {
   "cell_type": "code",
   "execution_count": 61,
   "metadata": {},
   "outputs": [],
   "source": [
    "red_flags = {'marketing','communication',\"pré-embauche\",\"management\",\"legal\",\"business\"}  \n",
    "green_flags = {'blockchain','solidity','react'}  "
   ]
  },
  {
   "cell_type": "markdown",
   "metadata": {},
   "source": [
    "exporting to csv files"
   ]
  },
  {
   "cell_type": "code",
   "execution_count": 62,
   "metadata": {},
   "outputs": [
    {
     "name": "stdout",
     "output_type": "stream",
     "text": [
      "RangeIndex(start=0, stop=101, step=1)\n"
     ]
    }
   ],
   "source": [
    "\n",
    "\n",
    "red = result['titre'].apply(lambda x  :set(x.lower().split()).intersection(red_flags)!=set())\n",
    "green =result['titre'].apply(lambda x  :set(x.lower().split()).intersection(green_flags)!=set())\n",
    "test = result\n",
    "\n",
    "print(test.index)\n",
    "\n",
    "test['green']= green\n",
    "test['red']=red\n",
    "\n",
    "test.to_csv(\"csv/alljobs.csv\")\n",
    "\n",
    "greens  = test[test['green']==True]\n",
    "greens=greens.reset_index()\n",
    "greens.to_csv(\"csv/green_flags.csv\")\n",
    "\n",
    "noreds = test[test['red']!=True]\n",
    "noreds=noreds.reset_index()\n",
    "noreds.to_csv(\"csv/filtered.csv\")\n",
    "\n",
    "reds  = test[test['red']==True]\n",
    "reds=reds.reset_index()\n",
    "reds.to_csv(\"csv/red_flags.csv\")\n"
   ]
  },
  {
   "cell_type": "markdown",
   "metadata": {},
   "source": [
    "creation of an html file "
   ]
  },
  {
   "cell_type": "code",
   "execution_count": 63,
   "metadata": {},
   "outputs": [],
   "source": [
    "\n",
    "template = \"<h2>title :<span>{}</span> pays : <span>{}</span> entreprise : <span>{}</span> <a href='{}'> link</a> </h2> \\n\"\n",
    "a='<style> span{color : red;}</style>'\n",
    "dict = noreds.to_dict()\n",
    "for u in range(len(dict['country'])-1):\n",
    "    a+=template.format(dict['titre'][u],dict['country'][u],dict['entreprise'][u],dict['links'][u])\n",
    "with open('rendu.html', 'w') as f:\n",
    "    f.write(a)"
   ]
  }
 ],
 "metadata": {
  "interpreter": {
   "hash": "916dbcbb3f70747c44a77c7bcd40155683ae19c65e1c03b4aa3499c5328201f1"
  },
  "kernelspec": {
   "display_name": "Python 3.8.10 64-bit",
   "language": "python",
   "name": "python3"
  },
  "language_info": {
   "codemirror_mode": {
    "name": "ipython",
    "version": 3
   },
   "file_extension": ".py",
   "mimetype": "text/x-python",
   "name": "python",
   "nbconvert_exporter": "python",
   "pygments_lexer": "ipython3",
   "version": "3.8.10"
  },
  "orig_nbformat": 4
 },
 "nbformat": 4,
 "nbformat_minor": 2
}
